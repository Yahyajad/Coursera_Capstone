{
 "cells": [
  {
   "cell_type": "markdown",
   "source": [
    "# Capstone Project - The Battle of the Neighborhoods (Week one)\r\n",
    "### Applied Data Science Capstone by IBM/Coursera"
   ],
   "metadata": {}
  },
  {
   "cell_type": "markdown",
   "source": [
    "## Table of contents\r\n",
    "* [Introduction: Business Problem](#introduction)\r\n",
    "* [Data](#data)\r\n",
    "* [Methodology](#methodology)\r\n",
    "* [Analysis](#analysis)\r\n",
    "* [Results and Discussion](#results)\r\n",
    "* [Conclusion](#conclusion)"
   ],
   "metadata": {}
  },
  {
   "cell_type": "markdown",
   "source": [
    "\r\n",
    "\r\n",
    "## Introduction: Business Problem <a name=\"introduction\"></a>"
   ],
   "metadata": {}
  },
  {
   "cell_type": "markdown",
   "source": [
    "The purpose of this excercice is to find the safest and most secure location for opening of commercial establishments in Baltimore, US. \r\n",
    "This report will be targeted to stakeholders interested in opening any business like **convinience Store** in **Baltimore City**, US.\r\n",
    "\r\n",
    "\r\n",
    "This analysis will require data science tools to analyse data and identify the safest districts and neighborhoods as a business oportunity and avoid the dangerous ones."
   ],
   "metadata": {}
  },
  {
   "cell_type": "markdown",
   "source": [
    "Based on the definition of our problem, the factor that will influence our decission is the number of crimes by neighorhood.\r\n",
    "\r\n",
    "\r\n",
    "We will be using the geographical coordinates to plot neighbourhoods, inquire into market saturation using the Foursquare API and finally cluster them with the analysis of our findinds.\r\n",
    "\r\n",
    "Following data sources will be needed to extract/generate the required information.\r\n",
    "\r\n",
    "\r\n",
    "- [**Part 1**: Using a real world dataset from wwww.data.world.com containing the baltimore Crimes from  2011 to 2016](#part1) \r\n",
    "\r\n",
    " A dataset consisting of the crime statistics of each Neighbourhood along with crime date, crime code, location of the crime, a description of the the crime, the weapon used, police post engaged, district and neighborhood where the crime took place, the geo-localisation (coordinates) of the crime scene and how    it was commited.\r\n",
    "\r\n",
    "- [**Part 2**: Transforming the Raw Data into dataframes](#part2):\r\n",
    "\r\n",
    " Manipulating the data into dataframes for further use.\r\n",
    "\r\n",
    "\r\n",
    "- [**Part 3**: Exploring and Visualizing the Data](#part3):\r\n",
    "\r\n",
    "\r\n",
    "Visualizing and exploring the data \r\n",
    "\r\n",
    "\r\n",
    "- [**Part 4**: Mapping the identified districts and neighborhoods](#part4):\r\n",
    "\r\n",
    "Mapping the targets and clustering the most recent data"
   ],
   "metadata": {}
  },
  {
   "cell_type": "markdown",
   "source": [
    "**Part 1:** Using a real world data set from wwww.data.world/com containing the baltimore Crimes from 2011 to 2016<a name=\"part1\"></a>\r\n",
    "\r\n",
    "##### The DATA that will be used to deal with th data set and later use the Foursquare API to quantify the competitiveness\r\n"
   ],
   "metadata": {}
  },
  {
   "cell_type": "markdown",
   "source": [
    "####  Baltimore Crime data \r\n",
    "\r\n",
    "Properties of the Crime Report\r\n",
    "\r\n",
    "*   crimedate: date\r\n",
    "*   crimetime: string\r\n",
    "*   crimecode: string\r\n",
    "*   location: string\r\n",
    "*   description: string\r\n",
    "*   weapon: string\r\n",
    "*   post: integer\r\n",
    "*   district: string\r\n",
    "*   neighborhood: string\r\n",
    "*   location_1: geopoint\r\n",
    "*   total_incidents: boolean\r\n",
    "\r\n",
    "\r\n",
    "\r\n",
    "Dataset URL: https://data.world/baltimore/baltimore-crime-data"
   ],
   "metadata": {}
  },
  {
   "cell_type": "code",
   "execution_count": 2,
   "source": [
    "import pandas as pd # library for data analsysis\r\n",
    "\r\n",
    "df = pd.read_csv(r'C:\\Users\\jadya\\Downloads\\BPD_Part_1_Victim_Based_Crime_Data.csv')"
   ],
   "outputs": [],
   "metadata": {}
  },
  {
   "cell_type": "markdown",
   "source": [
    "#### Let's take a look at how the dataset looks:"
   ],
   "metadata": {}
  },
  {
   "cell_type": "code",
   "execution_count": 3,
   "source": [
    "# A glimpe into the dataset\r\n",
    "df.head()"
   ],
   "outputs": [
    {
     "output_type": "execute_result",
     "data": {
      "text/plain": [
       "   CrimeDate CrimeTime CrimeCode          Location Description   Weapon  \\\n",
       "0  6/18/2016   0:33:00        4E  2700 CHESLEY AVE           I    HANDS   \n",
       "1  6/18/2016   0:39:00        4B     2700 FAIT AVE           O    KNIFE   \n",
       "2  6/18/2016        15        9S   2400 CYLBURN AV     Outside  FIREARM   \n",
       "3  6/18/2016   1:53:00       3AF   2300 ORLEANS ST           O  FIREARM   \n",
       "4  6/18/2016   2:05:00        6C    800 N WOLFE ST           I      NaN   \n",
       "\n",
       "    Post      District        Neighborhood                       Location 1  \\\n",
       "0  424.0  NORTHEASTERN  North Harford Road  (39.3679000000, -76.5555900000)   \n",
       "1  232.0  SOUTHEASTERN              Canton  (39.2831500000, -76.5783400000)   \n",
       "2  532.0      NORTHERN           Levindale  (39.3510400000, -76.6597600000)   \n",
       "3  221.0  SOUTHEASTERN      McElderry Park  (39.2955600000, -76.5844600000)   \n",
       "4  321.0       EASTERN         Middle East  (39.3002700000, -76.5909700000)   \n",
       "\n",
       "   Total Incidents  \n",
       "0                1  \n",
       "1                1  \n",
       "2                1  \n",
       "3                1  \n",
       "4                1  "
      ],
      "text/html": [
       "<div>\n",
       "<style scoped>\n",
       "    .dataframe tbody tr th:only-of-type {\n",
       "        vertical-align: middle;\n",
       "    }\n",
       "\n",
       "    .dataframe tbody tr th {\n",
       "        vertical-align: top;\n",
       "    }\n",
       "\n",
       "    .dataframe thead th {\n",
       "        text-align: right;\n",
       "    }\n",
       "</style>\n",
       "<table border=\"1\" class=\"dataframe\">\n",
       "  <thead>\n",
       "    <tr style=\"text-align: right;\">\n",
       "      <th></th>\n",
       "      <th>CrimeDate</th>\n",
       "      <th>CrimeTime</th>\n",
       "      <th>CrimeCode</th>\n",
       "      <th>Location</th>\n",
       "      <th>Description</th>\n",
       "      <th>Weapon</th>\n",
       "      <th>Post</th>\n",
       "      <th>District</th>\n",
       "      <th>Neighborhood</th>\n",
       "      <th>Location 1</th>\n",
       "      <th>Total Incidents</th>\n",
       "    </tr>\n",
       "  </thead>\n",
       "  <tbody>\n",
       "    <tr>\n",
       "      <th>0</th>\n",
       "      <td>6/18/2016</td>\n",
       "      <td>0:33:00</td>\n",
       "      <td>4E</td>\n",
       "      <td>2700 CHESLEY AVE</td>\n",
       "      <td>I</td>\n",
       "      <td>HANDS</td>\n",
       "      <td>424.0</td>\n",
       "      <td>NORTHEASTERN</td>\n",
       "      <td>North Harford Road</td>\n",
       "      <td>(39.3679000000, -76.5555900000)</td>\n",
       "      <td>1</td>\n",
       "    </tr>\n",
       "    <tr>\n",
       "      <th>1</th>\n",
       "      <td>6/18/2016</td>\n",
       "      <td>0:39:00</td>\n",
       "      <td>4B</td>\n",
       "      <td>2700 FAIT AVE</td>\n",
       "      <td>O</td>\n",
       "      <td>KNIFE</td>\n",
       "      <td>232.0</td>\n",
       "      <td>SOUTHEASTERN</td>\n",
       "      <td>Canton</td>\n",
       "      <td>(39.2831500000, -76.5783400000)</td>\n",
       "      <td>1</td>\n",
       "    </tr>\n",
       "    <tr>\n",
       "      <th>2</th>\n",
       "      <td>6/18/2016</td>\n",
       "      <td>15</td>\n",
       "      <td>9S</td>\n",
       "      <td>2400 CYLBURN AV</td>\n",
       "      <td>Outside</td>\n",
       "      <td>FIREARM</td>\n",
       "      <td>532.0</td>\n",
       "      <td>NORTHERN</td>\n",
       "      <td>Levindale</td>\n",
       "      <td>(39.3510400000, -76.6597600000)</td>\n",
       "      <td>1</td>\n",
       "    </tr>\n",
       "    <tr>\n",
       "      <th>3</th>\n",
       "      <td>6/18/2016</td>\n",
       "      <td>1:53:00</td>\n",
       "      <td>3AF</td>\n",
       "      <td>2300 ORLEANS ST</td>\n",
       "      <td>O</td>\n",
       "      <td>FIREARM</td>\n",
       "      <td>221.0</td>\n",
       "      <td>SOUTHEASTERN</td>\n",
       "      <td>McElderry Park</td>\n",
       "      <td>(39.2955600000, -76.5844600000)</td>\n",
       "      <td>1</td>\n",
       "    </tr>\n",
       "    <tr>\n",
       "      <th>4</th>\n",
       "      <td>6/18/2016</td>\n",
       "      <td>2:05:00</td>\n",
       "      <td>6C</td>\n",
       "      <td>800 N WOLFE ST</td>\n",
       "      <td>I</td>\n",
       "      <td>NaN</td>\n",
       "      <td>321.0</td>\n",
       "      <td>EASTERN</td>\n",
       "      <td>Middle East</td>\n",
       "      <td>(39.3002700000, -76.5909700000)</td>\n",
       "      <td>1</td>\n",
       "    </tr>\n",
       "  </tbody>\n",
       "</table>\n",
       "</div>"
      ]
     },
     "metadata": {},
     "execution_count": 3
    }
   ],
   "metadata": {}
  },
  {
   "cell_type": "markdown",
   "source": [
    "#### Let's see how many emptu cells we got:"
   ],
   "metadata": {}
  },
  {
   "cell_type": "code",
   "execution_count": 4,
   "source": [
    "#Identifying the empty cells\r\n",
    "df.isnull().sum()"
   ],
   "outputs": [
    {
     "output_type": "execute_result",
     "data": {
      "text/plain": [
       "CrimeDate               0\n",
       "CrimeTime               0\n",
       "CrimeCode               0\n",
       "Location                2\n",
       "Description          4003\n",
       "Weapon             173375\n",
       "Post                   13\n",
       "District                0\n",
       "Neighborhood            0\n",
       "Location 1              0\n",
       "Total Incidents         0\n",
       "dtype: int64"
      ]
     },
     "metadata": {},
     "execution_count": 4
    }
   ],
   "metadata": {}
  },
  {
   "cell_type": "markdown",
   "source": [
    "#### As explained above the Foursquare API will be implemented later on to mesure the market saturation in the safest districts/neighborhoods."
   ],
   "metadata": {}
  }
 ],
 "metadata": {
  "kernelspec": {
   "display_name": "Python",
   "language": "python",
   "name": "conda-env-python-py"
  },
  "language_info": {
   "codemirror_mode": {
    "name": "ipython",
    "version": 3
   },
   "file_extension": ".py",
   "mimetype": "text/x-python",
   "name": "python",
   "nbconvert_exporter": "python",
   "pygments_lexer": "ipython3",
   "version": "3.6.13"
  }
 },
 "nbformat": 4,
 "nbformat_minor": 4
}